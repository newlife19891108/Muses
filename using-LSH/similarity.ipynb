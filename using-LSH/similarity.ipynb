{
 "cells": [
  {
   "cell_type": "code",
   "execution_count": 1,
   "metadata": {},
   "outputs": [],
   "source": [
    "import librosa\n",
    "import os\n",
    "from numpy import random\n",
    "import numpy\n",
    "import os.path\n",
    "import pydot"
   ]
  },
  {
   "cell_type": "code",
   "execution_count": 2,
   "metadata": {},
   "outputs": [],
   "source": [
    "training_dir = 'audio_resources/'\n",
    "training_files = [os.path.join(training_dir, f) for f in os.listdir(training_dir)]"
   ]
  },
  {
   "cell_type": "code",
   "execution_count": 3,
   "metadata": {},
   "outputs": [],
   "source": [
    "def hash_func(vecs, projections):\n",
    "    bools = numpy.dot(vecs, projections.T) > 0\n",
    "    return [bool2int(bool_vec) for bool_vec in bools]"
   ]
  },
  {
   "cell_type": "code",
   "execution_count": 4,
   "metadata": {},
   "outputs": [],
   "source": [
    "def bool2int(x):\n",
    "    y = 0\n",
    "    for i,j in enumerate(x):\n",
    "        if j: y += 1<<i\n",
    "    return y"
   ]
  },
  {
   "cell_type": "code",
   "execution_count": 5,
   "metadata": {
    "scrolled": true
   },
   "outputs": [
    {
     "data": {
      "text/plain": [
       "10"
      ]
     },
     "execution_count": 5,
     "metadata": {},
     "output_type": "execute_result"
    }
   ],
   "source": [
    "bool2int([False, True, False, True])"
   ]
  },
  {
   "cell_type": "code",
   "execution_count": 6,
   "metadata": {
    "scrolled": true
   },
   "outputs": [
    {
     "data": {
      "text/plain": [
       "[6, 3, 4, 3, 7, 4, 4, 1, 2, 6]"
      ]
     },
     "execution_count": 6,
     "metadata": {},
     "output_type": "execute_result"
    }
   ],
   "source": [
    "X = random.randn(10,100)\n",
    "P = random.randn(3,100)\n",
    "hash_func(X, P)"
   ]
  },
  {
   "cell_type": "code",
   "execution_count": 7,
   "metadata": {},
   "outputs": [],
   "source": [
    "\n",
    "class Table:\n",
    "    \n",
    "    def __init__(self, hash_size, dim):\n",
    "        self.table = dict()\n",
    "        self.hash_size = hash_size\n",
    "        self.projections = random.randn(self.hash_size, dim)\n",
    "\n",
    "    def add(self, vecs, label):\n",
    "        entry = {'label': label}\n",
    "        hashes = hash_func(vecs, self.projections)\n",
    "        for h in hashes:\n",
    "            if h in self.table:\n",
    "                self.table[h].append(entry)\n",
    "            else:\n",
    "                self.table[h] = [entry]\n",
    "\n",
    "    def query(self, vecs):\n",
    "        hashes = hash_func(vecs, self.projections)\n",
    "        results = list()\n",
    "        for h in hashes:\n",
    "            if h in self.table:\n",
    "                results.extend(self.table[h])\n",
    "        return results"
   ]
  },
  {
   "cell_type": "code",
   "execution_count": 8,
   "metadata": {},
   "outputs": [],
   "source": [
    "class LSH:\n",
    "    \n",
    "    def __init__(self, dim):\n",
    "        self.num_tables = 4\n",
    "        self.hash_size = 8\n",
    "        self.tables = list()\n",
    "        for i in range(self.num_tables):\n",
    "            self.tables.append(Table(self.hash_size, dim))\n",
    "    \n",
    "    def add(self, vecs, label):\n",
    "        for table in self.tables:\n",
    "            table.add(vecs, label)\n",
    "    \n",
    "    def query(self, vecs):\n",
    "        results = list()\n",
    "        for table in self.tables:\n",
    "            results.extend(table.query(vecs))\n",
    "        return results\n",
    "\n",
    "    def describe(self):\n",
    "        for table in self.tables:\n",
    "            print(table.table)"
   ]
  },
  {
   "cell_type": "code",
   "execution_count": 9,
   "metadata": {},
   "outputs": [],
   "source": [
    "class MusicSearch:\n",
    "    \n",
    "    def __init__(self, training_files):\n",
    "        self.frame_size = 4096\n",
    "        self.hop_size = 4000\n",
    "        self.fv_size = 12\n",
    "        self.lsh = LSH(self.fv_size)\n",
    "        self.training_files = training_files\n",
    "        self.num_features_in_file = dict()\n",
    "        for f in self.training_files:\n",
    "            self.num_features_in_file[f] = 0\n",
    "                \n",
    "    def train(self):\n",
    "        for filepath in self.training_files:\n",
    "            x, fs = librosa.load(filepath)\n",
    "            features = librosa.feature.chroma_stft(x, fs, n_fft=self.frame_size, hop_length=self.hop_size).T\n",
    "            self.lsh.add(features, filepath)\n",
    "            self.num_features_in_file[filepath] += len(features)\n",
    "                \n",
    "    def query(self, filepath):\n",
    "        x, fs = librosa.load(filepath)\n",
    "        features = librosa.feature.chroma_stft(x, fs, n_fft=self.frame_size, hop_length=self.hop_size).T\n",
    "        results = self.lsh.query(features)\n",
    "        print ('num results', len(results))\n",
    "\n",
    "        counts = dict()\n",
    "        for r in results:\n",
    "            if r['label'] in counts:\n",
    "                counts[r['label']] += 1\n",
    "            else:\n",
    "                counts[r['label']] = 1\n",
    "        for k in counts:\n",
    "            counts[k] = float(counts[k])/self.num_features_in_file[k]\n",
    "        return counts"
   ]
  },
  {
   "cell_type": "code",
   "execution_count": 10,
   "metadata": {
    "scrolled": false
   },
   "outputs": [],
   "source": [
    "ms = MusicSearch(training_files)\n",
    "ms.train()"
   ]
  },
  {
   "cell_type": "code",
   "execution_count": 11,
   "metadata": {},
   "outputs": [
    {
     "name": "stdout",
     "output_type": "stream",
     "text": [
      "num results 450434\n"
     ]
    }
   ],
   "source": [
    "test_file = 'test/classical0.mp3'\n",
    "results = ms.query(test_file)"
   ]
  },
  {
   "cell_type": "code",
   "execution_count": 12,
   "metadata": {},
   "outputs": [
    {
     "name": "stdout",
     "output_type": "stream",
     "text": [
      "audio_resources/metal3.mp3 52.6\n",
      "audio_resources/hiphop0.mp3 52.18787878787879\n",
      "audio_resources/disco1.mp3 52.10778443113772\n",
      "audio_resources/blues2.mp3 51.224242424242426\n",
      "audio_resources/metal4.mp3 50.78181818181818\n",
      "audio_resources/disco5.mp3 49.1497005988024\n",
      "audio_resources/rock1.mp3 47.59036144578313\n",
      "audio_resources/country4.mp3 47.49090909090909\n",
      "audio_resources/hiphop6.mp3 47.397590361445786\n",
      "audio_resources/disco0.mp3 47.30120481927711\n",
      "audio_resources/disco2.mp3 46.63855421686747\n",
      "audio_resources/disco6.mp3 45.99393939393939\n",
      "audio_resources/classical2.mp3 45.945454545454545\n",
      "audio_resources/reggae2.mp3 45.81818181818182\n",
      "audio_resources/metal5.mp3 45.59036144578313\n",
      "audio_resources/metal2.mp3 45.30909090909091\n",
      "audio_resources/disco4.mp3 45.15060240963855\n",
      "audio_resources/rock2.mp3 45.024096385542165\n",
      "audio_resources/hiphop5.mp3 44.72121212121212\n",
      "audio_resources/reggae3.mp3 44.64242424242424\n",
      "audio_resources/reggae4.mp3 44.39393939393939\n",
      "audio_resources/rock0.mp3 44.03030303030303\n",
      "audio_resources/country5.mp3 43.952095808383234\n",
      "audio_resources/reggae0.mp3 43.63855421686747\n",
      "audio_resources/reggae6.mp3 43.28484848484848\n",
      "audio_resources/jazz0.mp3 42.97575757575758\n",
      "audio_resources/pop4.mp3 42.84848484848485\n",
      "audio_resources/pop0.mp3 41.36363636363637\n",
      "audio_resources/rock3.mp3 41.13253012048193\n",
      "audio_resources/metal0.mp3 40.97575757575758\n",
      "audio_resources/country3.mp3 40.666666666666664\n",
      "audio_resources/disco3.mp3 40.16766467065868\n",
      "audio_resources/rock5.mp3 40.10909090909091\n",
      "audio_resources/hiphop4.mp3 40.06060606060606\n",
      "audio_resources/country2.mp3 39.964285714285715\n",
      "audio_resources/country0.mp3 39.660606060606064\n",
      "audio_resources/country1.mp3 39.6\n",
      "audio_resources/metal1.mp3 38.46666666666667\n",
      "audio_resources/hiphop3.mp3 38.236363636363635\n",
      "audio_resources/jazz3.mp3 38.09036144578313\n",
      "audio_resources/rock4.mp3 37.93333333333333\n",
      "audio_resources/classical1.mp3 37.825301204819276\n",
      "audio_resources/blues3.mp3 37.37951807228916\n",
      "audio_resources/country6.mp3 37.08383233532934\n",
      "audio_resources/pop1.mp3 36.557575757575755\n",
      "audio_resources/hiphop2.mp3 36.53939393939394\n",
      "audio_resources/classical4.mp3 36.345454545454544\n",
      "audio_resources/pop3.mp3 36.27272727272727\n",
      "audio_resources/hiphop1.mp3 36.121212121212125\n",
      "audio_resources/metal6.mp3 36.006024096385545\n",
      "audio_resources/pop2.mp3 35.8969696969697\n",
      "audio_resources/jazz1.mp3 34.46060606060606\n",
      "audio_resources/pop5.mp3 34.406060606060606\n",
      "audio_resources/jazz6.mp3 34.236363636363635\n",
      "audio_resources/blues5.mp3 33.57575757575758\n",
      "audio_resources/reggae5.mp3 33.02424242424242\n",
      "audio_resources/pop6.mp3 32.46987951807229\n",
      "audio_resources/reggae1.mp3 31.812121212121212\n",
      "audio_resources/rock6.mp3 31.734939759036145\n",
      "audio_resources/blues0.mp3 31.381818181818183\n",
      "audio_resources/classical3.mp3 31.289156626506024\n",
      "audio_resources/blues6.mp3 31.054545454545455\n",
      "audio_resources/jazz4.mp3 28.63855421686747\n",
      "audio_resources/blues1.mp3 27.96987951807229\n",
      "audio_resources/blues4.mp3 27.757575757575758\n",
      "audio_resources/jazz5.mp3 27.23030303030303\n",
      "audio_resources/jazz2.mp3 25.096969696969698\n",
      "audio_resources/classical5.mp3 23.01212121212121\n",
      "audio_resources/classical6.mp3 22.775757575757577\n"
     ]
    }
   ],
   "source": [
    "for r in sorted(results, key=results.get, reverse=True):\n",
    "    print (r, results[r])"
   ]
  },
  {
   "cell_type": "code",
   "execution_count": null,
   "metadata": {},
   "outputs": [],
   "source": []
  }
 ],
 "metadata": {
  "kernelspec": {
   "display_name": "Python 3",
   "language": "python",
   "name": "python3"
  },
  "language_info": {
   "codemirror_mode": {
    "name": "ipython",
    "version": 3
   },
   "file_extension": ".py",
   "mimetype": "text/x-python",
   "name": "python",
   "nbconvert_exporter": "python",
   "pygments_lexer": "ipython3",
   "version": "3.6.5"
  }
 },
 "nbformat": 4,
 "nbformat_minor": 2
}
